{
 "cells": [
  {
   "cell_type": "markdown",
   "metadata": {},
   "source": ["# Welcome to the training notebook"]
  }
 ],
 "metadata": {},
 "nbformat": 4,
 "nbformat_minor": 5
}
